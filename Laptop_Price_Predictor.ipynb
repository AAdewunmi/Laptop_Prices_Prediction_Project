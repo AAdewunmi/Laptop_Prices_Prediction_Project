{
  "nbformat": 4,
  "nbformat_minor": 0,
  "metadata": {
    "colab": {
      "provenance": [],
      "authorship_tag": "ABX9TyOWTjlkFyPkXyyXZEj8o6H+",
      "include_colab_link": true
    },
    "kernelspec": {
      "name": "python3",
      "display_name": "Python 3"
    },
    "language_info": {
      "name": "python"
    }
  },
  "cells": [
    {
      "cell_type": "markdown",
      "metadata": {
        "id": "view-in-github",
        "colab_type": "text"
      },
      "source": [
        "<a href=\"https://colab.research.google.com/github/AAdewunmi/Laptop_Prices_Prediction_Project/blob/main/Laptop_Price_Predictor.ipynb\" target=\"_parent\"><img src=\"https://colab.research.google.com/assets/colab-badge.svg\" alt=\"Open In Colab\"/></a>"
      ]
    },
    {
      "cell_type": "markdown",
      "source": [
        "# Project Title: Laptop Price Prediction Analysis\n",
        "\n",
        "Objective:\n",
        "\n",
        "This project is about predicting the price of laptops based on several features.\n",
        "The workflow is similar to any other end to end, full stack data science supervised learning project i.e. we load the data into pandas data frame, we do exploratory data analysis (EDA), model building, select an algorithm for prediction, then we do hyperparameter tuning of the algorithm.\n"
      ],
      "metadata": {
        "id": "Rb7REi-Aslc3"
      }
    },
    {
      "cell_type": "code",
      "source": [
        "# Import basic dependencies\n",
        "import pandas as pd\n",
        "import numpy as np\n",
        "import seaborn as sn\n",
        "import matplotlib.pyplot as plt\n",
        "%matplotlib inline"
      ],
      "metadata": {
        "id": "dRDjVge0voH0"
      },
      "execution_count": 1,
      "outputs": []
    }
  ]
}